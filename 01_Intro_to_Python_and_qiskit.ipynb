{
 "cells": [
  {
   "cell_type": "markdown",
   "id": "military-tract",
   "metadata": {},
   "source": [
    "# Quantum Computing: Lab 1\n",
    "\n",
    "In this first Lab we want to show you the basics of Python and Jupyter Notebooks needed for this Lecture. Afterwards, we want to write our first circuits in qiskit and run them on the simulator and on a simulated real device.\n",
    "\n",
    "## Jupyter Notebooks\n",
    "\n",
    "- this is an interactive Python environment\n",
    "- each notebook contains cells\n",
    "- each cell can contain Markdown (like this one) or Code, you can change this using the dropdown menu\n",
    "- you can edit Markdown cells via double click or with `enter`\n",
    "- each cell is executed on its own (all cells in one notebook share variables and states), thus the order of execution matters\n",
    "- you can execute cells either with the play button, `ctrl + enter` or `shift + enter` (executes the cell and jumps to the next line or creates a new one)\n",
    "- each Jupyter instance runs in its own container, user data is persisted, additional packages are not\n",
    "- with `!` you can execute command-line commands from within a cell\n",
    "- with `!pip install <package>` you can temporary install additional packages into your environment\n",
    "- an hour after closing the browser window additional packages are removed, so runing this command at the begining of your notebook is recommended\n",
    "- *Notice*: I've added a semi-colon (`;`) behind plots if it was the last statement in a cell, this is because in the current version it plots the diagram if executed and since it is the last statement it also displays the return value (https://github.com/facebook/prophet/issues/344#issuecomment-341934939)\n",
    "\n",
    "## Python\n",
    "\n",
    "- Python is an object oriented programming language, however we don't have to define classes and create objects if we don't want to (most of the time we won't use classes or objects)\n",
    "- Python uses tabs and `:` instead of curly bracers (`{` or `}`) and semi-colons (`;`)\n",
    "- the keyword for defining a function is `def`"
   ]
  },
  {
   "cell_type": "code",
   "execution_count": 1,
   "id": "southern-credit",
   "metadata": {},
   "outputs": [],
   "source": [
    "def hello_world():\n",
    "    print('Hello World!')\n",
    "    \n",
    "def round_digit(x):\n",
    "    if x < 0:\n",
    "        print('Error')\n",
    "    elif x < 5:\n",
    "        print(0)\n",
    "    else:\n",
    "        print(10)"
   ]
  },
  {
   "cell_type": "code",
   "execution_count": 2,
   "id": "fantastic-albany",
   "metadata": {},
   "outputs": [
    {
     "name": "stdout",
     "output_type": "stream",
     "text": [
      "Hello World!\n"
     ]
    }
   ],
   "source": [
    "hello_world()"
   ]
  },
  {
   "cell_type": "code",
   "execution_count": 3,
   "id": "identical-touch",
   "metadata": {},
   "outputs": [
    {
     "name": "stdout",
     "output_type": "stream",
     "text": [
      "Error\n",
      "0\n",
      "10\n"
     ]
    }
   ],
   "source": [
    "round_digit(-2)\n",
    "round_digit(4)\n",
    "round_digit(5)"
   ]
  },
  {
   "cell_type": "markdown",
   "id": "fallen-frontier",
   "metadata": {},
   "source": [
    "- most of Pythons functionality needs to be imported first using `import`"
   ]
  },
  {
   "cell_type": "code",
   "execution_count": 4,
   "id": "flush-replica",
   "metadata": {},
   "outputs": [
    {
     "name": "stderr",
     "output_type": "stream",
     "text": [
      "/opt/conda/lib/python3.9/site-packages/qiskit/aqua/__init__.py:86: DeprecationWarning: The package qiskit.aqua is deprecated. It was moved/refactored to qiskit-terra For more information see <https://github.com/Qiskit/qiskit-aqua/blob/main/README.md#migration-guide>\n",
      "  warn_package('aqua', 'qiskit-terra')\n"
     ]
    }
   ],
   "source": [
    "import os\n",
    "import numpy as np\n",
    "from qiskit.aqua import QuantumInstance"
   ]
  },
  {
   "cell_type": "code",
   "execution_count": 5,
   "id": "qualified-consultancy",
   "metadata": {},
   "outputs": [
    {
     "data": {
      "text/plain": [
       "1.4142135623730951"
      ]
     },
     "execution_count": 5,
     "metadata": {},
     "output_type": "execute_result"
    }
   ],
   "source": [
    "np.sqrt(2) # the result is printed, since its the last statement in this cell"
   ]
  },
  {
   "cell_type": "markdown",
   "id": "alpha-conservation",
   "metadata": {},
   "source": [
    "## Quantum Computing using Matrix Calculation\n",
    "\n",
    "- we can use numpy's arrays to create matrices and vectors \n",
    "- a column vector is actually a matrix from numpy's perspective, you will see why\n",
    "- we will use `kron` for the tensor product and `matmul` for matrix multiplication"
   ]
  },
  {
   "cell_type": "code",
   "execution_count": 6,
   "id": "raised-chinese",
   "metadata": {},
   "outputs": [
    {
     "name": "stdout",
     "output_type": "stream",
     "text": [
      "[[1]\n",
      " [0]]\n"
     ]
    }
   ],
   "source": [
    "zero_qubit = np.array([[1], [0]])\n",
    "print(zero_qubit)"
   ]
  },
  {
   "cell_type": "code",
   "execution_count": 7,
   "id": "immediate-yugoslavia",
   "metadata": {},
   "outputs": [
    {
     "name": "stdout",
     "output_type": "stream",
     "text": [
      "[[0]\n",
      " [1]]\n"
     ]
    }
   ],
   "source": [
    "one_qubit = np.array([[0], [1]])\n",
    "print(one_qubit)"
   ]
  },
  {
   "cell_type": "code",
   "execution_count": 8,
   "id": "posted-wisdom",
   "metadata": {},
   "outputs": [
    {
     "name": "stdout",
     "output_type": "stream",
     "text": [
      "[[0]\n",
      " [0]\n",
      " [0]\n",
      " [1]]\n"
     ]
    }
   ],
   "source": [
    "one_one = np.kron(one_qubit, one_qubit)\n",
    "print(one_one)"
   ]
  },
  {
   "cell_type": "code",
   "execution_count": 9,
   "id": "adjacent-press",
   "metadata": {},
   "outputs": [
    {
     "name": "stdout",
     "output_type": "stream",
     "text": [
      "[[ 0.70710678  0.70710678]\n",
      " [ 0.70710678 -0.70710678]]\n"
     ]
    }
   ],
   "source": [
    "H = np.array([[1/np.sqrt(2), 1/np.sqrt(2)], [1/np.sqrt(2), -1/np.sqrt(2)]])\n",
    "print(H)"
   ]
  },
  {
   "cell_type": "markdown",
   "id": "basic-wings",
   "metadata": {},
   "source": [
    "In the next cell we want to calculate the result of the following circuit:\n",
    "\n",
    "![](./resources/circuit-H.png)\n",
    "\n",
    "Remember, that we have to start from the right."
   ]
  },
  {
   "cell_type": "code",
   "execution_count": 10,
   "id": "capital-validity",
   "metadata": {},
   "outputs": [
    {
     "data": {
      "text/plain": [
       "array([[0.70710678],\n",
       "       [0.70710678]])"
      ]
     },
     "execution_count": 10,
     "metadata": {},
     "output_type": "execute_result"
    }
   ],
   "source": [
    "np.matmul(H, zero_qubit)"
   ]
  },
  {
   "cell_type": "markdown",
   "id": "instant-conspiracy",
   "metadata": {},
   "source": [
    "As you might remember from the lecture each entry in the vector is an amplitude. To get the probability we have to square each entry. To do so we define the following function."
   ]
  },
  {
   "cell_type": "code",
   "execution_count": 11,
   "id": "according-radius",
   "metadata": {},
   "outputs": [],
   "source": [
    "def print_vector_probabilities(vec):\n",
    "    for i in range(len(vec)):\n",
    "        print(str(i) + ': ' + str(np.absolute(vec[i][0]) ** 2))"
   ]
  },
  {
   "cell_type": "code",
   "execution_count": 12,
   "id": "closing-command",
   "metadata": {},
   "outputs": [
    {
     "name": "stdout",
     "output_type": "stream",
     "text": [
      "0: 0.4999999999999999\n",
      "1: 0.4999999999999999\n"
     ]
    }
   ],
   "source": [
    "print_vector_probabilities(np.matmul(H, one_qubit))"
   ]
  },
  {
   "cell_type": "code",
   "execution_count": 13,
   "id": "dressed-collectible",
   "metadata": {},
   "outputs": [
    {
     "name": "stdout",
     "output_type": "stream",
     "text": [
      "0: 0\n",
      "1: 0\n",
      "2: 0\n",
      "3: 1\n"
     ]
    }
   ],
   "source": [
    "print_vector_probabilities(one_one)"
   ]
  },
  {
   "cell_type": "markdown",
   "id": "amino-paragraph",
   "metadata": {},
   "source": [
    "Since we are able to create quantum states manually, it might be useful to have function which checks if we have created a valid quantum state.\n",
    "\n",
    "__Exercise 1__: Complete the function and test it with a valid and an invalid quantum state."
   ]
  },
  {
   "cell_type": "code",
   "execution_count": 14,
   "id": "contained-electric",
   "metadata": {},
   "outputs": [],
   "source": [
    "def is_quantum_state(psi: np.array):\n",
    "    n = len(psi)\n",
    "    ssum = 0.0\n",
    "    \n",
    "    # Add your calculation here\n",
    "    \n",
    "    if round(ssum, 2) == 1:\n",
    "        return True\n",
    "    else:\n",
    "        return False"
   ]
  },
  {
   "cell_type": "code",
   "execution_count": 15,
   "id": "apparent-papua",
   "metadata": {},
   "outputs": [
    {
     "data": {
      "text/plain": [
       "False"
      ]
     },
     "execution_count": 15,
     "metadata": {},
     "output_type": "execute_result"
    }
   ],
   "source": [
    "is_quantum_state(np.matmul(H, one_qubit))"
   ]
  },
  {
   "cell_type": "markdown",
   "id": "certain-darkness",
   "metadata": {},
   "source": [
    "## Qiskit\n",
    "\n",
    "In the next section we want to work with qiskit. Qiskit is a SDK for IBMs quantum devices, however you can also use local and hosted simulators. Furhter, alternative quantum device providers start to support qiskit for their devices as well.\n",
    "\n",
    "For a first small example, we want to add a X-Gate to a circuit and measure it. Here are a couple of hints how we are going to implement this:\n",
    "\n",
    "- we use a `QuantumRegister` and a `ClassicalRegister` to create a `QuantumCircuit`, however the registers are not necessary, as you will see later\n",
    "- we add a X-Gate to the circuit on the first qubit of the quantum register\n",
    "- (optional) we draw the circuit to see how it looks, `'mpl'` stands for matplotlib\n",
    "- we measure qubit zero to classical bit zero, we will see later an alternative method\n",
    "- we execute the circuit on a backend, which we defined earlier; this returns a job\n",
    "- we receive the result of the job (calling the `result` method starts the job)\n",
    "- we receive the counts\n",
    "- we use qiskits own method to print a histogram of the results"
   ]
  },
  {
   "cell_type": "code",
   "execution_count": 16,
   "id": "spiritual-discretion",
   "metadata": {},
   "outputs": [
    {
     "data": {
      "image/png": "[encoded data removed]",
      "text/plain": [
       "<Figure size 146.507x144.48 with 1 Axes>"
      ]
     },
     "metadata": {},
     "output_type": "display_data"
    }
   ],
   "source": [
    "from qiskit import QuantumCircuit, ClassicalRegister, QuantumRegister\n",
    "from qiskit import execute\n",
    "from qiskit import BasicAer\n",
    "from qiskit.tools.visualization import plot_histogram, plot_bloch_multivector\n",
    "\n",
    "backend = BasicAer.get_backend('qasm_simulator')\n",
    "\n",
    "q = QuantumRegister(1)\n",
    "c = ClassicalRegister(1)\n",
    "circuit = QuantumCircuit(q, c)\n",
    "circuit.x(q[0])\n",
    "\n",
    "circuit.draw('mpl');"
   ]
  },
  {
   "cell_type": "code",
   "execution_count": 17,
   "id": "daily-hospital",
   "metadata": {},
   "outputs": [
    {
     "data": {
      "image/png": "[encoded data removed]",
      "text/plain": [
       "<Figure size 206.707x144.48 with 1 Axes>"
      ]
     },
     "metadata": {},
     "output_type": "display_data"
    }
   ],
   "source": [
    "circuit.measure(q[0], c[0])\n",
    "circuit.draw('mpl');"
   ]
  },
  {
   "cell_type": "code",
   "execution_count": 18,
   "id": "signal-multiple",
   "metadata": {},
   "outputs": [],
   "source": [
    "job = execute(circuit, backend, shots=1024)"
   ]
  },
  {
   "cell_type": "code",
   "execution_count": 19,
   "id": "north-insulin",
   "metadata": {},
   "outputs": [
    {
     "data": {
      "text/plain": [
       "{'1': 1024}"
      ]
     },
     "execution_count": 19,
     "metadata": {},
     "output_type": "execute_result"
    }
   ],
   "source": [
    "result = job.result()\n",
    "result.get_counts(circuit)"
   ]
  },
  {
   "cell_type": "code",
   "execution_count": 20,
   "id": "durable-breath",
   "metadata": {},
   "outputs": [
    {
     "data": {
      "image/png": "[encoded data removed]",
      "text/plain": [
       "<Figure size 504x360 with 1 Axes>"
      ]
     },
     "metadata": {
      "needs_background": "light"
     },
     "output_type": "display_data"
    }
   ],
   "source": [
    "plot_histogram(result.get_counts(circuit));"
   ]
  },
  {
   "cell_type": "markdown",
   "id": "dental-martin",
   "metadata": {},
   "source": [
    "### Bell-State with Qiskit\n",
    "\n",
    "In the next advanced example we want to use 2 quibts and also use 2-qubit-gates to create the bell state. Here are some hints how we did this:\n",
    "\n",
    "- we create a `QuantumCircuit`, the 2 indicates, that we want to have 2 qubits\n",
    "- we add an Hadamard-Gate to qubit zero\n",
    "- we add an CNOT-Gate to the circuit with the control qubit zero and target qubit one\n",
    "- we use the `measure_all` method, to measure all qubits to classical bits\n",
    "- we execute the circuit and plot the histogram"
   ]
  },
  {
   "cell_type": "code",
   "execution_count": 21,
   "id": "assumed-advantage",
   "metadata": {},
   "outputs": [
    {
     "data": {
      "image/png": "[encoded data removed]",
      "text/plain": [
       "<Figure size 206.852x144.48 with 1 Axes>"
      ]
     },
     "metadata": {},
     "output_type": "display_data"
    }
   ],
   "source": [
    "bell_circuit = QuantumCircuit(2)\n",
    "bell_circuit.h(0)\n",
    "bell_circuit.cnot(0, 1)\n",
    "\n",
    "bell_circuit.draw('mpl');"
   ]
  },
  {
   "cell_type": "code",
   "execution_count": 22,
   "id": "excess-freedom",
   "metadata": {},
   "outputs": [
    {
     "data": {
      "image/png": "[encoded data removed]",
      "text/plain": [
       "<Figure size 417.879x204.68 with 1 Axes>"
      ]
     },
     "metadata": {},
     "output_type": "display_data"
    }
   ],
   "source": [
    "bell_circuit.measure_all()\n",
    "bell_circuit.draw('mpl');"
   ]
  },
  {
   "cell_type": "code",
   "execution_count": 23,
   "id": "lesser-charleston",
   "metadata": {},
   "outputs": [
    {
     "data": {
      "image/png": "[encoded data removed]",
      "text/plain": [
       "<Figure size 504x360 with 1 Axes>"
      ]
     },
     "metadata": {
      "needs_background": "light"
     },
     "output_type": "display_data"
    }
   ],
   "source": [
    "job = execute(bell_circuit, backend, shots=1024)\n",
    "bell_result = job.result()\n",
    "plot_histogram(bell_result.get_counts(bell_circuit));"
   ]
  },
  {
   "cell_type": "markdown",
   "id": "straight-poster",
   "metadata": {},
   "source": [
    "![](./resources/circuit-deutsch.png)\n",
    "\n",
    "__Exercise 2:__ Implement and execute the algorithm of Deutsch for the balanced and for the unbalanced case in qiskit. See above for a graphical visualisation of the algorithm. Remember the 'plus' is a X-Gate and the barriers in this example are only for visual support so you don't have to implement them."
   ]
  },
  {
   "cell_type": "code",
   "execution_count": 24,
   "id": "swedish-collectible",
   "metadata": {},
   "outputs": [],
   "source": [
    "# Your code goes here"
   ]
  },
  {
   "cell_type": "markdown",
   "id": "interstate-front",
   "metadata": {},
   "source": [
    "### Working with real quantum devices\n",
    "\n",
    "If you want to run your circuits on real hardware you need to store your IBM Q Experience API-Token in your pyhton environment (the registration is free). To do so visit https://quantum-computing.ibm.com/account and click the blue button 'Copy token' as shown in the following picture: \n",
    "\n",
    "![](./resources/ibmqtoken.jpg)\n",
    "\n",
    "With this token you can execute the following method `IBMQ.save_account('<API-Token>', overwrite=True)` (imported from qiskit). You have to run this method every time in a python environement, when your token has changed.\n",
    "\n",
    "After saving your account you have to load it everytime at the beginning of your program/jupyer notebook: `IBMQ.load_account()`.\n",
    "\n",
    "Next, you specify your provider. For a free account it will look like this: `provider = IBMQ.get_provider(hub='ibm-q', group='open', project='main')`\n",
    "\n",
    "The `provider` provides you with your backends. `provider.backends()` lists all of your backends."
   ]
  },
  {
   "cell_type": "code",
   "execution_count": 25,
   "id": "intermediate-coating",
   "metadata": {},
   "outputs": [],
   "source": [
    "from qiskit import *\n",
    "\n",
    "# IBMQ.save_account('<API-Token>', hub='ibm-q', group='open', project='main', overwrite=True)"
   ]
  },
  {
   "cell_type": "code",
   "execution_count": 26,
   "id": "fluid-roots",
   "metadata": {},
   "outputs": [
    {
     "data": {
      "text/plain": [
       "[<IBMQSimulator('ibmq_qasm_simulator') from IBMQ(hub='ibm-q', group='open', project='main')>,\n",
       " <IBMQBackend('ibmq_armonk') from IBMQ(hub='ibm-q', group='open', project='main')>,\n",
       " <IBMQBackend('ibmq_santiago') from IBMQ(hub='ibm-q', group='open', project='main')>,\n",
       " <IBMQBackend('ibmq_bogota') from IBMQ(hub='ibm-q', group='open', project='main')>,\n",
       " <IBMQBackend('ibmq_lima') from IBMQ(hub='ibm-q', group='open', project='main')>,\n",
       " <IBMQBackend('ibmq_belem') from IBMQ(hub='ibm-q', group='open', project='main')>,\n",
       " <IBMQBackend('ibmq_quito') from IBMQ(hub='ibm-q', group='open', project='main')>,\n",
       " <IBMQSimulator('simulator_statevector') from IBMQ(hub='ibm-q', group='open', project='main')>,\n",
       " <IBMQSimulator('simulator_mps') from IBMQ(hub='ibm-q', group='open', project='main')>,\n",
       " <IBMQSimulator('simulator_extended_stabilizer') from IBMQ(hub='ibm-q', group='open', project='main')>,\n",
       " <IBMQSimulator('simulator_stabilizer') from IBMQ(hub='ibm-q', group='open', project='main')>,\n",
       " <IBMQBackend('ibmq_manila') from IBMQ(hub='ibm-q', group='open', project='main')>]"
      ]
     },
     "execution_count": 26,
     "metadata": {},
     "output_type": "execute_result"
    }
   ],
   "source": [
    "IBMQ.load_account()\n",
    "provider = IBMQ.get_provider(hub='ibm-q', group='open', project='main')\n",
    "\n",
    "provider.backends()"
   ]
  },
  {
   "cell_type": "code",
   "execution_count": 27,
   "id": "heavy-thompson",
   "metadata": {},
   "outputs": [],
   "source": [
    "device_backend = provider.backend.ibmq_bogota"
   ]
  },
  {
   "cell_type": "markdown",
   "id": "indian-convenience",
   "metadata": {},
   "source": [
    "### Using noise models\n",
    "\n",
    "Since the execution takes very long, we will primarily use the noise model of a specific backend. Doing so we will get results, which are similar to the results from a real devices."
   ]
  },
  {
   "cell_type": "code",
   "execution_count": 28,
   "id": "isolated-condition",
   "metadata": {},
   "outputs": [
    {
     "name": "stdout",
     "output_type": "stream",
     "text": [
      "NoiseModel:\n",
      "  Basis gates: ['cx', 'id', 'reset', 'rz', 'sx', 'x']\n",
      "  Instructions with noise: ['id', 'reset', 'cx', 'measure', 'x', 'sx']\n",
      "  Qubits with noise: [0, 1, 2, 3, 4]\n",
      "  Specific qubit errors: [('id', [0]), ('id', [1]), ('id', [2]), ('id', [3]), ('id', [4]), ('sx', [0]), ('sx', [1]), ('sx', [2]), ('sx', [3]), ('sx', [4]), ('x', [0]), ('x', [1]), ('x', [2]), ('x', [3]), ('x', [4]), ('cx', [4, 3]), ('cx', [3, 4]), ('cx', [3, 2]), ('cx', [2, 3]), ('cx', [1, 2]), ('cx', [2, 1]), ('cx', [1, 0]), ('cx', [0, 1]), ('reset', [0]), ('reset', [1]), ('reset', [2]), ('reset', [3]), ('reset', [4]), ('measure', [0]), ('measure', [1]), ('measure', [2]), ('measure', [3]), ('measure', [4])]\n"
     ]
    },
    {
     "data": {
      "image/png": "[encoded data removed]",
      "text/plain": [
       "<Figure size 504x360 with 1 Axes>"
      ]
     },
     "metadata": {
      "needs_background": "light"
     },
     "output_type": "display_data"
    }
   ],
   "source": [
    "from qiskit.providers.aer.noise import NoiseModel\n",
    "\n",
    "# The device coupling map is needed for transpiling to correct\n",
    "# CNOT gates before simulation\n",
    "coupling_map = device_backend.configuration().coupling_map\n",
    "\n",
    "# Select the QasmSimulator from the Aer provider\n",
    "simulator = Aer.get_backend('qasm_simulator')\n",
    "\n",
    "# Construct the noise model from backend properties\n",
    "noise_model = NoiseModel.from_backend(device_backend)\n",
    "print(noise_model)\n",
    "\n",
    "# Get the basis gates for the noise model\n",
    "basis_gates = noise_model.basis_gates\n",
    "\n",
    "# Execute noisy simulation and get counts\n",
    "result_noise = execute(bell_circuit, simulator,\n",
    "                       noise_model=noise_model,\n",
    "                       coupling_map=coupling_map,\n",
    "                       basis_gates=basis_gates).result()\n",
    "counts_noise = result_noise.get_counts(bell_circuit)\n",
    "plot_histogram(counts_noise, title=\"Counts Bell-State with depolarizing noise model\");"
   ]
  },
  {
   "cell_type": "code",
   "execution_count": 29,
   "id": "exotic-player",
   "metadata": {},
   "outputs": [
    {
     "data": {
      "image/png": "[encoded data removed]",
      "text/plain": [
       "<Figure size 504x360 with 1 Axes>"
      ]
     },
     "metadata": {
      "needs_background": "light"
     },
     "output_type": "display_data"
    }
   ],
   "source": [
    "plot_histogram([bell_result.get_counts(bell_circuit), counts_noise], legend=['Simulator', 'Simulator with noise']);"
   ]
  }
 ],
 "metadata": {
  "kernelspec": {
   "display_name": "Python 3 (ipykernel)",
   "language": "python",
   "name": "python3"
  },
  "language_info": {
   "codemirror_mode": {
    "name": "ipython",
    "version": 3
   },
   "file_extension": ".py",
   "mimetype": "text/x-python",
   "name": "python",
   "nbconvert_exporter": "python",
   "pygments_lexer": "ipython3",
   "version": "3.9.6"
  }
 },
 "nbformat": 4,
 "nbformat_minor": 5
}
